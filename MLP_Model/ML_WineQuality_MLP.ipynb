{
 "cells": [
  {
   "cell_type": "markdown",
   "id": "cc864f1769d828b2",
   "metadata": {
    "id": "cc864f1769d828b2"
   },
   "source": [
    "## 1. IMPORT THƯ VIỆN VÀ THIẾT LẬP MÔI TRƯỜNG"
   ]
  },
  {
   "cell_type": "code",
   "id": "initial_id",
   "metadata": {
    "colab": {
     "base_uri": "https://localhost:8080/"
    },
    "collapsed": true,
    "id": "initial_id",
    "outputId": "76be24cf-8379-4d9a-b309-67f15a4c79f0",
    "ExecuteTime": {
     "end_time": "2025-04-28T10:46:30.411161Z",
     "start_time": "2025-04-28T10:46:27.498688Z"
    }
   },
   "source": [
    "try:\n",
    "    import torch\n",
    "    import matplotlib.pyplot as plt\n",
    "    import numpy as np\n",
    "    import torch.nn as nn\n",
    "    from torch.utils.data import DataLoader, TensorDataset\n",
    "    from sklearn.model_selection import train_test_split\n",
    "    from sklearn.preprocessing import StandardScaler\n",
    "    from scipy.stats import shapiro\n",
    "    from imblearn.over_sampling import SMOTE, RandomOverSampler\n",
    "    import seaborn as sns\n",
    "    import pandas as pd\n",
    "    from sklearn.metrics import classification_report, confusion_matrix, accuracy_score, precision_recall_fscore_support\n",
    "    from sklearn.utils.class_weight import compute_class_weight\n",
    "    from ucimlrepo import fetch_ucirepo\n",
    "    print(\"All libraries loaded successfully!\")\n",
    "except ImportError as e:\n",
    "    print(f\"Error: {e.name} library is missing. Installing...\")\n",
    "    missing_lib = e.name\n",
    "    # Tự động cài đặt thư viện thiếu\n",
    "    if missing_lib == 'torch':\n",
    "        !pip install torch\n",
    "    elif missing_lib == 'matplotlib':\n",
    "        !pip install matplotlib\n",
    "    elif missing_lib == 'numpy':\n",
    "        !pip install numpy\n",
    "    elif missing_lib == 'scikit-learn':\n",
    "        !pip install scikit-learn\n",
    "    elif missing_lib == 'imbalanced-learn':\n",
    "        !pip install imbalanced-learn\n",
    "    elif missing_lib == 'seaborn':\n",
    "        !pip install seaborn\n",
    "    elif missing_lib == 'pandas':\n",
    "        !pip install pandas\n",
    "    elif missing_lib == 'scipy':\n",
    "        !pip install scipy\n",
    "    elif missing_lib == 'ucimlrepo':\n",
    "        !pip install ucimlrepo\n",
    "    # Sau khi cài đặt xong, thử lại việc import\n",
    "    print(f\"Successfully installed {missing_lib}. Please re-run the code.\")\n",
    "\n",
    "# Thiết lập GPU nếu có\n",
    "torch.backends.cudnn.benchmark = True\n",
    "device = torch.device(\"cuda:0\" if torch.cuda.is_available() else \"cpu\")\n",
    "print(f\"Using device: {device}\")"
   ],
   "outputs": [
    {
     "name": "stdout",
     "output_type": "stream",
     "text": [
      "All libraries loaded successfully!\n",
      "Using device: cuda:0\n"
     ]
    }
   ],
   "execution_count": 1
  },
  {
   "cell_type": "markdown",
   "id": "76459d6444531754",
   "metadata": {
    "id": "76459d6444531754"
   },
   "source": [
    "## 2. THU THẬP DỮ LIỆU"
   ]
  },
  {
   "cell_type": "code",
   "id": "f11a5f8fe7f6e80e",
   "metadata": {
    "colab": {
     "base_uri": "https://localhost:8080/",
     "height": 536
    },
    "id": "f11a5f8fe7f6e80e",
    "outputId": "acdeb0ae-4585-4620-aab2-4e39704134c8",
    "ExecuteTime": {
     "end_time": "2025-04-28T10:46:33.361933Z",
     "start_time": "2025-04-28T10:46:30.440157Z"
    }
   },
   "source": [
    "wine_quality = fetch_ucirepo(id=186)\n",
    "df = wine_quality.data.original\n",
    "\n",
    "# Lọc rượu trắng\n",
    "mask = df[\"color\"] == \"white\"\n",
    "df= df[mask]\n",
    "df= df.drop('color',axis=1)\n",
    "df.info()\n",
    "df.head()"
   ],
   "outputs": [
    {
     "name": "stdout",
     "output_type": "stream",
     "text": [
      "<class 'pandas.core.frame.DataFrame'>\n",
      "Int64Index: 4898 entries, 1599 to 6496\n",
      "Data columns (total 12 columns):\n",
      " #   Column                Non-Null Count  Dtype  \n",
      "---  ------                --------------  -----  \n",
      " 0   fixed_acidity         4898 non-null   float64\n",
      " 1   volatile_acidity      4898 non-null   float64\n",
      " 2   citric_acid           4898 non-null   float64\n",
      " 3   residual_sugar        4898 non-null   float64\n",
      " 4   chlorides             4898 non-null   float64\n",
      " 5   free_sulfur_dioxide   4898 non-null   float64\n",
      " 6   total_sulfur_dioxide  4898 non-null   float64\n",
      " 7   density               4898 non-null   float64\n",
      " 8   pH                    4898 non-null   float64\n",
      " 9   sulphates             4898 non-null   float64\n",
      " 10  alcohol               4898 non-null   float64\n",
      " 11  quality               4898 non-null   int64  \n",
      "dtypes: float64(11), int64(1)\n",
      "memory usage: 497.5 KB\n"
     ]
    },
    {
     "data": {
      "text/plain": [
       "      fixed_acidity  volatile_acidity  citric_acid  residual_sugar  chlorides  \\\n",
       "1599            7.0              0.27         0.36            20.7      0.045   \n",
       "1600            6.3              0.30         0.34             1.6      0.049   \n",
       "1601            8.1              0.28         0.40             6.9      0.050   \n",
       "1602            7.2              0.23         0.32             8.5      0.058   \n",
       "1603            7.2              0.23         0.32             8.5      0.058   \n",
       "\n",
       "      free_sulfur_dioxide  total_sulfur_dioxide  density    pH  sulphates  \\\n",
       "1599                 45.0                 170.0   1.0010  3.00       0.45   \n",
       "1600                 14.0                 132.0   0.9940  3.30       0.49   \n",
       "1601                 30.0                  97.0   0.9951  3.26       0.44   \n",
       "1602                 47.0                 186.0   0.9956  3.19       0.40   \n",
       "1603                 47.0                 186.0   0.9956  3.19       0.40   \n",
       "\n",
       "      alcohol  quality  \n",
       "1599      8.8        6  \n",
       "1600      9.5        6  \n",
       "1601     10.1        6  \n",
       "1602      9.9        6  \n",
       "1603      9.9        6  "
      ],
      "text/html": [
       "<div>\n",
       "<style scoped>\n",
       "    .dataframe tbody tr th:only-of-type {\n",
       "        vertical-align: middle;\n",
       "    }\n",
       "\n",
       "    .dataframe tbody tr th {\n",
       "        vertical-align: top;\n",
       "    }\n",
       "\n",
       "    .dataframe thead th {\n",
       "        text-align: right;\n",
       "    }\n",
       "</style>\n",
       "<table border=\"1\" class=\"dataframe\">\n",
       "  <thead>\n",
       "    <tr style=\"text-align: right;\">\n",
       "      <th></th>\n",
       "      <th>fixed_acidity</th>\n",
       "      <th>volatile_acidity</th>\n",
       "      <th>citric_acid</th>\n",
       "      <th>residual_sugar</th>\n",
       "      <th>chlorides</th>\n",
       "      <th>free_sulfur_dioxide</th>\n",
       "      <th>total_sulfur_dioxide</th>\n",
       "      <th>density</th>\n",
       "      <th>pH</th>\n",
       "      <th>sulphates</th>\n",
       "      <th>alcohol</th>\n",
       "      <th>quality</th>\n",
       "    </tr>\n",
       "  </thead>\n",
       "  <tbody>\n",
       "    <tr>\n",
       "      <th>1599</th>\n",
       "      <td>7.0</td>\n",
       "      <td>0.27</td>\n",
       "      <td>0.36</td>\n",
       "      <td>20.7</td>\n",
       "      <td>0.045</td>\n",
       "      <td>45.0</td>\n",
       "      <td>170.0</td>\n",
       "      <td>1.0010</td>\n",
       "      <td>3.00</td>\n",
       "      <td>0.45</td>\n",
       "      <td>8.8</td>\n",
       "      <td>6</td>\n",
       "    </tr>\n",
       "    <tr>\n",
       "      <th>1600</th>\n",
       "      <td>6.3</td>\n",
       "      <td>0.30</td>\n",
       "      <td>0.34</td>\n",
       "      <td>1.6</td>\n",
       "      <td>0.049</td>\n",
       "      <td>14.0</td>\n",
       "      <td>132.0</td>\n",
       "      <td>0.9940</td>\n",
       "      <td>3.30</td>\n",
       "      <td>0.49</td>\n",
       "      <td>9.5</td>\n",
       "      <td>6</td>\n",
       "    </tr>\n",
       "    <tr>\n",
       "      <th>1601</th>\n",
       "      <td>8.1</td>\n",
       "      <td>0.28</td>\n",
       "      <td>0.40</td>\n",
       "      <td>6.9</td>\n",
       "      <td>0.050</td>\n",
       "      <td>30.0</td>\n",
       "      <td>97.0</td>\n",
       "      <td>0.9951</td>\n",
       "      <td>3.26</td>\n",
       "      <td>0.44</td>\n",
       "      <td>10.1</td>\n",
       "      <td>6</td>\n",
       "    </tr>\n",
       "    <tr>\n",
       "      <th>1602</th>\n",
       "      <td>7.2</td>\n",
       "      <td>0.23</td>\n",
       "      <td>0.32</td>\n",
       "      <td>8.5</td>\n",
       "      <td>0.058</td>\n",
       "      <td>47.0</td>\n",
       "      <td>186.0</td>\n",
       "      <td>0.9956</td>\n",
       "      <td>3.19</td>\n",
       "      <td>0.40</td>\n",
       "      <td>9.9</td>\n",
       "      <td>6</td>\n",
       "    </tr>\n",
       "    <tr>\n",
       "      <th>1603</th>\n",
       "      <td>7.2</td>\n",
       "      <td>0.23</td>\n",
       "      <td>0.32</td>\n",
       "      <td>8.5</td>\n",
       "      <td>0.058</td>\n",
       "      <td>47.0</td>\n",
       "      <td>186.0</td>\n",
       "      <td>0.9956</td>\n",
       "      <td>3.19</td>\n",
       "      <td>0.40</td>\n",
       "      <td>9.9</td>\n",
       "      <td>6</td>\n",
       "    </tr>\n",
       "  </tbody>\n",
       "</table>\n",
       "</div>"
      ]
     },
     "execution_count": 2,
     "metadata": {},
     "output_type": "execute_result"
    }
   ],
   "execution_count": 2
  },
  {
   "cell_type": "markdown",
   "id": "b01fd14ab003e922",
   "metadata": {
    "id": "b01fd14ab003e922"
   },
   "source": [
    "## 3. TIỀN XỬ LÝ DỮ LIỆU"
   ]
  },
  {
   "cell_type": "code",
   "id": "8eb09dff5a2ee465",
   "metadata": {
    "colab": {
     "base_uri": "https://localhost:8080/"
    },
    "id": "8eb09dff5a2ee465",
    "outputId": "96ae1663-14ac-4a5e-e263-df22d5545a08",
    "ExecuteTime": {
     "end_time": "2025-04-28T10:46:33.626965Z",
     "start_time": "2025-04-28T10:46:33.611967Z"
    }
   },
   "source": [
    "# Kiểm tra giá trị null và trùng lặp\n",
    "print(\"Null values:\", df.isnull().sum().sum())\n",
    "print(\"Duplicate rows:\", df.duplicated().sum())\n",
    "\n",
    "# Loại bỏ hàng trùng lặp và cột color\n",
    "df = df.drop_duplicates(keep=\"first\")\n"
   ],
   "outputs": [
    {
     "name": "stdout",
     "output_type": "stream",
     "text": [
      "Null values: 0\n",
      "Duplicate rows: 937\n"
     ]
    }
   ],
   "execution_count": 3
  },
  {
   "cell_type": "code",
   "id": "sN9bsZ0dGCD1",
   "metadata": {
    "colab": {
     "base_uri": "https://localhost:8080/",
     "height": 300
    },
    "id": "sN9bsZ0dGCD1",
    "outputId": "6df33692-5fae-4d9b-d233-4515933a2d67",
    "ExecuteTime": {
     "end_time": "2025-04-28T10:46:33.753123Z",
     "start_time": "2025-04-28T10:46:33.723129Z"
    }
   },
   "source": [
    "df.describe()"
   ],
   "outputs": [
    {
     "data": {
      "text/plain": [
       "       fixed_acidity  volatile_acidity  citric_acid  residual_sugar  \\\n",
       "count    3961.000000       3961.000000  3961.000000     3961.000000   \n",
       "mean        6.839346          0.280538     0.334332        5.914819   \n",
       "std         0.866860          0.103437     0.122446        4.861646   \n",
       "min         3.800000          0.080000     0.000000        0.600000   \n",
       "25%         6.300000          0.210000     0.270000        1.600000   \n",
       "50%         6.800000          0.260000     0.320000        4.700000   \n",
       "75%         7.300000          0.330000     0.390000        8.900000   \n",
       "max        14.200000          1.100000     1.660000       65.800000   \n",
       "\n",
       "         chlorides  free_sulfur_dioxide  total_sulfur_dioxide      density  \\\n",
       "count  3961.000000          3961.000000           3961.000000  3961.000000   \n",
       "mean      0.045905            34.889169            137.193512     0.993790   \n",
       "std       0.023103            17.210021             43.129065     0.002905   \n",
       "min       0.009000             2.000000              9.000000     0.987110   \n",
       "25%       0.035000            23.000000            106.000000     0.991620   \n",
       "50%       0.042000            33.000000            133.000000     0.993500   \n",
       "75%       0.050000            45.000000            166.000000     0.995710   \n",
       "max       0.346000           289.000000            440.000000     1.038980   \n",
       "\n",
       "                pH    sulphates      alcohol      quality  \n",
       "count  3961.000000  3961.000000  3961.000000  3961.000000  \n",
       "mean      3.195458     0.490351    10.589358     5.854835  \n",
       "std       0.151546     0.113523     1.217076     0.890683  \n",
       "min       2.720000     0.220000     8.000000     3.000000  \n",
       "25%       3.090000     0.410000     9.500000     5.000000  \n",
       "50%       3.180000     0.480000    10.400000     6.000000  \n",
       "75%       3.290000     0.550000    11.400000     6.000000  \n",
       "max       3.820000     1.080000    14.200000     9.000000  "
      ],
      "text/html": [
       "<div>\n",
       "<style scoped>\n",
       "    .dataframe tbody tr th:only-of-type {\n",
       "        vertical-align: middle;\n",
       "    }\n",
       "\n",
       "    .dataframe tbody tr th {\n",
       "        vertical-align: top;\n",
       "    }\n",
       "\n",
       "    .dataframe thead th {\n",
       "        text-align: right;\n",
       "    }\n",
       "</style>\n",
       "<table border=\"1\" class=\"dataframe\">\n",
       "  <thead>\n",
       "    <tr style=\"text-align: right;\">\n",
       "      <th></th>\n",
       "      <th>fixed_acidity</th>\n",
       "      <th>volatile_acidity</th>\n",
       "      <th>citric_acid</th>\n",
       "      <th>residual_sugar</th>\n",
       "      <th>chlorides</th>\n",
       "      <th>free_sulfur_dioxide</th>\n",
       "      <th>total_sulfur_dioxide</th>\n",
       "      <th>density</th>\n",
       "      <th>pH</th>\n",
       "      <th>sulphates</th>\n",
       "      <th>alcohol</th>\n",
       "      <th>quality</th>\n",
       "    </tr>\n",
       "  </thead>\n",
       "  <tbody>\n",
       "    <tr>\n",
       "      <th>count</th>\n",
       "      <td>3961.000000</td>\n",
       "      <td>3961.000000</td>\n",
       "      <td>3961.000000</td>\n",
       "      <td>3961.000000</td>\n",
       "      <td>3961.000000</td>\n",
       "      <td>3961.000000</td>\n",
       "      <td>3961.000000</td>\n",
       "      <td>3961.000000</td>\n",
       "      <td>3961.000000</td>\n",
       "      <td>3961.000000</td>\n",
       "      <td>3961.000000</td>\n",
       "      <td>3961.000000</td>\n",
       "    </tr>\n",
       "    <tr>\n",
       "      <th>mean</th>\n",
       "      <td>6.839346</td>\n",
       "      <td>0.280538</td>\n",
       "      <td>0.334332</td>\n",
       "      <td>5.914819</td>\n",
       "      <td>0.045905</td>\n",
       "      <td>34.889169</td>\n",
       "      <td>137.193512</td>\n",
       "      <td>0.993790</td>\n",
       "      <td>3.195458</td>\n",
       "      <td>0.490351</td>\n",
       "      <td>10.589358</td>\n",
       "      <td>5.854835</td>\n",
       "    </tr>\n",
       "    <tr>\n",
       "      <th>std</th>\n",
       "      <td>0.866860</td>\n",
       "      <td>0.103437</td>\n",
       "      <td>0.122446</td>\n",
       "      <td>4.861646</td>\n",
       "      <td>0.023103</td>\n",
       "      <td>17.210021</td>\n",
       "      <td>43.129065</td>\n",
       "      <td>0.002905</td>\n",
       "      <td>0.151546</td>\n",
       "      <td>0.113523</td>\n",
       "      <td>1.217076</td>\n",
       "      <td>0.890683</td>\n",
       "    </tr>\n",
       "    <tr>\n",
       "      <th>min</th>\n",
       "      <td>3.800000</td>\n",
       "      <td>0.080000</td>\n",
       "      <td>0.000000</td>\n",
       "      <td>0.600000</td>\n",
       "      <td>0.009000</td>\n",
       "      <td>2.000000</td>\n",
       "      <td>9.000000</td>\n",
       "      <td>0.987110</td>\n",
       "      <td>2.720000</td>\n",
       "      <td>0.220000</td>\n",
       "      <td>8.000000</td>\n",
       "      <td>3.000000</td>\n",
       "    </tr>\n",
       "    <tr>\n",
       "      <th>25%</th>\n",
       "      <td>6.300000</td>\n",
       "      <td>0.210000</td>\n",
       "      <td>0.270000</td>\n",
       "      <td>1.600000</td>\n",
       "      <td>0.035000</td>\n",
       "      <td>23.000000</td>\n",
       "      <td>106.000000</td>\n",
       "      <td>0.991620</td>\n",
       "      <td>3.090000</td>\n",
       "      <td>0.410000</td>\n",
       "      <td>9.500000</td>\n",
       "      <td>5.000000</td>\n",
       "    </tr>\n",
       "    <tr>\n",
       "      <th>50%</th>\n",
       "      <td>6.800000</td>\n",
       "      <td>0.260000</td>\n",
       "      <td>0.320000</td>\n",
       "      <td>4.700000</td>\n",
       "      <td>0.042000</td>\n",
       "      <td>33.000000</td>\n",
       "      <td>133.000000</td>\n",
       "      <td>0.993500</td>\n",
       "      <td>3.180000</td>\n",
       "      <td>0.480000</td>\n",
       "      <td>10.400000</td>\n",
       "      <td>6.000000</td>\n",
       "    </tr>\n",
       "    <tr>\n",
       "      <th>75%</th>\n",
       "      <td>7.300000</td>\n",
       "      <td>0.330000</td>\n",
       "      <td>0.390000</td>\n",
       "      <td>8.900000</td>\n",
       "      <td>0.050000</td>\n",
       "      <td>45.000000</td>\n",
       "      <td>166.000000</td>\n",
       "      <td>0.995710</td>\n",
       "      <td>3.290000</td>\n",
       "      <td>0.550000</td>\n",
       "      <td>11.400000</td>\n",
       "      <td>6.000000</td>\n",
       "    </tr>\n",
       "    <tr>\n",
       "      <th>max</th>\n",
       "      <td>14.200000</td>\n",
       "      <td>1.100000</td>\n",
       "      <td>1.660000</td>\n",
       "      <td>65.800000</td>\n",
       "      <td>0.346000</td>\n",
       "      <td>289.000000</td>\n",
       "      <td>440.000000</td>\n",
       "      <td>1.038980</td>\n",
       "      <td>3.820000</td>\n",
       "      <td>1.080000</td>\n",
       "      <td>14.200000</td>\n",
       "      <td>9.000000</td>\n",
       "    </tr>\n",
       "  </tbody>\n",
       "</table>\n",
       "</div>"
      ]
     },
     "execution_count": 4,
     "metadata": {},
     "output_type": "execute_result"
    }
   ],
   "execution_count": 4
  },
  {
   "cell_type": "code",
   "id": "8c6b7c85ecec48f4",
   "metadata": {
    "colab": {
     "base_uri": "https://localhost:8080/",
     "height": 300
    },
    "id": "8c6b7c85ecec48f4",
    "outputId": "4a974014-da8a-4af0-a33a-b49b0f8f316d",
    "ExecuteTime": {
     "end_time": "2025-04-28T10:46:33.881042Z",
     "start_time": "2025-04-28T10:46:33.867666Z"
    }
   },
   "source": [
    "df['quality'].value_counts().sort_values(ascending=False).to_frame()"
   ],
   "outputs": [
    {
     "data": {
      "text/plain": [
       "   quality\n",
       "6     1788\n",
       "5     1175\n",
       "7      689\n",
       "4      153\n",
       "8      131\n",
       "3       20\n",
       "9        5"
      ],
      "text/html": [
       "<div>\n",
       "<style scoped>\n",
       "    .dataframe tbody tr th:only-of-type {\n",
       "        vertical-align: middle;\n",
       "    }\n",
       "\n",
       "    .dataframe tbody tr th {\n",
       "        vertical-align: top;\n",
       "    }\n",
       "\n",
       "    .dataframe thead th {\n",
       "        text-align: right;\n",
       "    }\n",
       "</style>\n",
       "<table border=\"1\" class=\"dataframe\">\n",
       "  <thead>\n",
       "    <tr style=\"text-align: right;\">\n",
       "      <th></th>\n",
       "      <th>quality</th>\n",
       "    </tr>\n",
       "  </thead>\n",
       "  <tbody>\n",
       "    <tr>\n",
       "      <th>6</th>\n",
       "      <td>1788</td>\n",
       "    </tr>\n",
       "    <tr>\n",
       "      <th>5</th>\n",
       "      <td>1175</td>\n",
       "    </tr>\n",
       "    <tr>\n",
       "      <th>7</th>\n",
       "      <td>689</td>\n",
       "    </tr>\n",
       "    <tr>\n",
       "      <th>4</th>\n",
       "      <td>153</td>\n",
       "    </tr>\n",
       "    <tr>\n",
       "      <th>8</th>\n",
       "      <td>131</td>\n",
       "    </tr>\n",
       "    <tr>\n",
       "      <th>3</th>\n",
       "      <td>20</td>\n",
       "    </tr>\n",
       "    <tr>\n",
       "      <th>9</th>\n",
       "      <td>5</td>\n",
       "    </tr>\n",
       "  </tbody>\n",
       "</table>\n",
       "</div>"
      ]
     },
     "execution_count": 5,
     "metadata": {},
     "output_type": "execute_result"
    }
   ],
   "execution_count": 5
  },
  {
   "cell_type": "code",
   "id": "717d26faaa2be7d5",
   "metadata": {
    "colab": {
     "base_uri": "https://localhost:8080/",
     "height": 472
    },
    "id": "717d26faaa2be7d5",
    "outputId": "8a2ecbcc-d981-4586-ae50-9d2cde637c4d",
    "ExecuteTime": {
     "end_time": "2025-04-28T10:46:34.224608Z",
     "start_time": "2025-04-28T10:46:34.003571Z"
    }
   },
   "source": [
    "sns.countplot(x='quality',data=df)\n",
    "plt.title('Plot showing the count of wines in various quality ratings')\n",
    "plt.xlabel('Wine Quality Rating')\n",
    "plt.ylabel('Number of Observations')\n",
    "plt.show()"
   ],
   "outputs": [
    {
     "data": {
      "text/plain": [
       "<Figure size 640x480 with 1 Axes>"
      ],
      "image/png": "[encoded data removed]"
     },
     "metadata": {},
     "output_type": "display_data"
    }
   ],
   "execution_count": 6
  },
  {
   "cell_type": "code",
   "id": "f2bb9f611764c617",
   "metadata": {
    "colab": {
     "base_uri": "https://localhost:8080/",
     "height": 1000
    },
    "id": "f2bb9f611764c617",
    "outputId": "09c50ecd-5747-42f7-e976-f1b5d3849e49",
    "ExecuteTime": {
     "end_time": "2025-04-28T10:46:34.767196Z",
     "start_time": "2025-04-28T10:46:34.445653Z"
    }
   },
   "source": [
    "#Plot of correlation\n",
    "'''Plot of correlation heatmap'''\n",
    "#calculate the correlation\n",
    "corr = df.corr()\n",
    "\n",
    "# Generate a mask for the upper triangle\n",
    "mask = np.triu(np.ones_like(corr, dtype=bool))\n",
    "\n",
    "#define the cmap to be used\n",
    "cmap = sns.diverging_palette(230, 20, as_cmap=True)\n",
    "\n",
    "#plot the heatmap\n",
    "plt.figure(figsize=(15,12))\n",
    "sns.heatmap(corr, mask=mask, cmap=cmap, vmax=.3, center=0,square=True, linewidths=.5, cbar_kws={\"shrink\": .5})\n",
    "plt.title('Feature Correlation Heatmap')\n",
    "plt.show()"
   ],
   "outputs": [
    {
     "data": {
      "text/plain": [
       "<Figure size 1500x1200 with 2 Axes>"
      ],
      "image/png": "[encoded data removed]"
     },
     "metadata": {},
     "output_type": "display_data"
    }
   ],
   "execution_count": 7
  },
  {
   "cell_type": "code",
   "id": "35ad4d223ea67dad",
   "metadata": {
    "colab": {
     "base_uri": "https://localhost:8080/",
     "height": 460
    },
    "id": "35ad4d223ea67dad",
    "outputId": "71627a96-7767-48cf-80d2-4350259b5567",
    "ExecuteTime": {
     "end_time": "2025-04-28T10:46:34.829265Z",
     "start_time": "2025-04-28T10:46:34.815265Z"
    }
   },
   "source": [
    "df.corr()['quality'].sort_values(ascending=False)"
   ],
   "outputs": [
    {
     "data": {
      "text/plain": [
       "quality                 1.000000\n",
       "alcohol                 0.462869\n",
       "pH                      0.123829\n",
       "sulphates               0.053200\n",
       "free_sulfur_dioxide     0.010507\n",
       "citric_acid             0.007065\n",
       "residual_sugar         -0.117339\n",
       "fixed_acidity          -0.124636\n",
       "total_sulfur_dioxide   -0.183356\n",
       "volatile_acidity       -0.190678\n",
       "chlorides              -0.217739\n",
       "density                -0.337805\n",
       "Name: quality, dtype: float64"
      ]
     },
     "execution_count": 8,
     "metadata": {},
     "output_type": "execute_result"
    }
   ],
   "execution_count": 8
  },
  {
   "cell_type": "code",
   "id": "a1a96982ca06b065",
   "metadata": {
    "colab": {
     "base_uri": "https://localhost:8080/",
     "height": 1000
    },
    "id": "a1a96982ca06b065",
    "outputId": "c80bbc46-5c07-44ec-b333-df2279ec84c9",
    "ExecuteTime": {
     "end_time": "2025-04-28T10:46:36.779879Z",
     "start_time": "2025-04-28T10:46:34.876782Z"
    }
   },
   "source": [
    "df.hist(bins=50, figsize=(20,15),color='maroon',alpha=0.7)\n",
    "plt.show()"
   ],
   "outputs": [
    {
     "data": {
      "text/plain": [
       "<Figure size 2000x1500 with 12 Axes>"
      ],
      "image/png": "[encoded data removed]"
     },
     "metadata": {},
     "output_type": "display_data"
    }
   ],
   "execution_count": 9
  },
  {
   "cell_type": "code",
   "id": "7653fefb7019b7f1",
   "metadata": {
    "colab": {
     "base_uri": "https://localhost:8080/"
    },
    "id": "7653fefb7019b7f1",
    "outputId": "82c86dc8-e4ea-4ea4-b8c5-bd1fcd430549",
    "ExecuteTime": {
     "end_time": "2025-04-28T10:46:36.840880Z",
     "start_time": "2025-04-28T10:46:36.826882Z"
    }
   },
   "source": [
    "df.columns"
   ],
   "outputs": [
    {
     "data": {
      "text/plain": [
       "Index(['fixed_acidity', 'volatile_acidity', 'citric_acid', 'residual_sugar',\n",
       "       'chlorides', 'free_sulfur_dioxide', 'total_sulfur_dioxide', 'density',\n",
       "       'pH', 'sulphates', 'alcohol', 'quality'],\n",
       "      dtype='object')"
      ]
     },
     "execution_count": 10,
     "metadata": {},
     "output_type": "execute_result"
    }
   ],
   "execution_count": 10
  },
  {
   "cell_type": "code",
   "id": "763d0c4cbd32540c",
   "metadata": {
    "colab": {
     "base_uri": "https://localhost:8080/"
    },
    "id": "763d0c4cbd32540c",
    "outputId": "25448076-6bd9-4d06-baff-eb8fb909848c",
    "ExecuteTime": {
     "end_time": "2025-04-28T10:46:36.872397Z",
     "start_time": "2025-04-28T10:46:36.852881Z"
    }
   },
   "source": [
    "features = ['fixed_acidity', 'volatile_acidity', 'citric_acid', 'residual_sugar',\n",
    "       'chlorides', 'free_sulfur_dioxide', 'total_sulfur_dioxide', 'density',\n",
    "       'pH', 'sulphates', 'alcohol']\n",
    "for feature in features:\n",
    "    stat, p = shapiro(df[feature])\n",
    "    print('Feature {}'.format(feature))\n",
    "    print('stat=%.3f, p=%.3f' % (stat, p))\n",
    "    if p > 0.05:\n",
    "        print('Probably feature \"{}\" is Normally Distributed'.format(feature))\n",
    "        print('\\n')\n",
    "    else:\n",
    "        print('Probably feature \"{}\" is not Normally Distributed'.format(feature))\n",
    "        print('\\n')"
   ],
   "outputs": [
    {
     "name": "stdout",
     "output_type": "stream",
     "text": [
      "Feature fixed_acidity\n",
      "stat=0.974, p=0.000\n",
      "Probably feature \"fixed_acidity\" is not Normally Distributed\n",
      "\n",
      "\n",
      "Feature volatile_acidity\n",
      "stat=0.898, p=0.000\n",
      "Probably feature \"volatile_acidity\" is not Normally Distributed\n",
      "\n",
      "\n",
      "Feature citric_acid\n",
      "stat=0.921, p=0.000\n",
      "Probably feature \"citric_acid\" is not Normally Distributed\n",
      "\n",
      "\n",
      "Feature residual_sugar\n",
      "stat=0.867, p=0.000\n",
      "Probably feature \"residual_sugar\" is not Normally Distributed\n",
      "\n",
      "\n",
      "Feature chlorides\n",
      "stat=0.578, p=0.000\n",
      "Probably feature \"chlorides\" is not Normally Distributed\n",
      "\n",
      "\n",
      "Feature free_sulfur_dioxide\n",
      "stat=0.933, p=0.000\n",
      "Probably feature \"free_sulfur_dioxide\" is not Normally Distributed\n",
      "\n",
      "\n",
      "Feature total_sulfur_dioxide\n",
      "stat=0.986, p=0.000\n",
      "Probably feature \"total_sulfur_dioxide\" is not Normally Distributed\n",
      "\n",
      "\n",
      "Feature density\n",
      "stat=0.947, p=0.000\n",
      "Probably feature \"density\" is not Normally Distributed\n",
      "\n",
      "\n",
      "Feature pH\n",
      "stat=0.988, p=0.000\n",
      "Probably feature \"pH\" is not Normally Distributed\n",
      "\n",
      "\n",
      "Feature sulphates\n",
      "stat=0.956, p=0.000\n",
      "Probably feature \"sulphates\" is not Normally Distributed\n",
      "\n",
      "\n",
      "Feature alcohol\n",
      "stat=0.962, p=0.000\n",
      "Probably feature \"alcohol\" is not Normally Distributed\n",
      "\n",
      "\n"
     ]
    }
   ],
   "execution_count": 11
  },
  {
   "cell_type": "code",
   "id": "bae3c591d3165047",
   "metadata": {
    "id": "bae3c591d3165047",
    "ExecuteTime": {
     "end_time": "2025-04-28T10:46:36.920396Z",
     "start_time": "2025-04-28T10:46:36.906397Z"
    }
   },
   "source": [
    "def new_quality_rating(rating):\n",
    "    '''This function will change the target quality rating to 0, 1 or 2.\n",
    "       The number of target labels will be reduced to 3 instead of 6'''\n",
    "    if (rating == 3 or rating == 4):\n",
    "        return 0\n",
    "    elif (rating == 5 or rating == 6):\n",
    "        return 1\n",
    "    else:\n",
    "        return 2"
   ],
   "outputs": [],
   "execution_count": 12
  },
  {
   "cell_type": "code",
   "id": "7f1ed957a99a2021",
   "metadata": {
    "id": "7f1ed957a99a2021",
    "ExecuteTime": {
     "end_time": "2025-04-28T10:46:36.967402Z",
     "start_time": "2025-04-28T10:46:36.952396Z"
    }
   },
   "source": [
    "df['new_quality'] = df['quality'].apply(new_quality_rating)"
   ],
   "outputs": [],
   "execution_count": 13
  },
  {
   "cell_type": "code",
   "id": "6ff3151833fe3350",
   "metadata": {
    "colab": {
     "base_uri": "https://localhost:8080/",
     "height": 206
    },
    "id": "6ff3151833fe3350",
    "outputId": "8b6cabfc-e1b5-44b2-8d7a-7a661e033d85",
    "ExecuteTime": {
     "end_time": "2025-04-28T10:46:37.013931Z",
     "start_time": "2025-04-28T10:46:37.000925Z"
    }
   },
   "source": [
    "df.head()"
   ],
   "outputs": [
    {
     "data": {
      "text/plain": [
       "      fixed_acidity  volatile_acidity  citric_acid  residual_sugar  chlorides  \\\n",
       "1599            7.0              0.27         0.36            20.7      0.045   \n",
       "1600            6.3              0.30         0.34             1.6      0.049   \n",
       "1601            8.1              0.28         0.40             6.9      0.050   \n",
       "1602            7.2              0.23         0.32             8.5      0.058   \n",
       "1605            6.2              0.32         0.16             7.0      0.045   \n",
       "\n",
       "      free_sulfur_dioxide  total_sulfur_dioxide  density    pH  sulphates  \\\n",
       "1599                 45.0                 170.0   1.0010  3.00       0.45   \n",
       "1600                 14.0                 132.0   0.9940  3.30       0.49   \n",
       "1601                 30.0                  97.0   0.9951  3.26       0.44   \n",
       "1602                 47.0                 186.0   0.9956  3.19       0.40   \n",
       "1605                 30.0                 136.0   0.9949  3.18       0.47   \n",
       "\n",
       "      alcohol  quality  new_quality  \n",
       "1599      8.8        6            1  \n",
       "1600      9.5        6            1  \n",
       "1601     10.1        6            1  \n",
       "1602      9.9        6            1  \n",
       "1605      9.6        6            1  "
      ],
      "text/html": [
       "<div>\n",
       "<style scoped>\n",
       "    .dataframe tbody tr th:only-of-type {\n",
       "        vertical-align: middle;\n",
       "    }\n",
       "\n",
       "    .dataframe tbody tr th {\n",
       "        vertical-align: top;\n",
       "    }\n",
       "\n",
       "    .dataframe thead th {\n",
       "        text-align: right;\n",
       "    }\n",
       "</style>\n",
       "<table border=\"1\" class=\"dataframe\">\n",
       "  <thead>\n",
       "    <tr style=\"text-align: right;\">\n",
       "      <th></th>\n",
       "      <th>fixed_acidity</th>\n",
       "      <th>volatile_acidity</th>\n",
       "      <th>citric_acid</th>\n",
       "      <th>residual_sugar</th>\n",
       "      <th>chlorides</th>\n",
       "      <th>free_sulfur_dioxide</th>\n",
       "      <th>total_sulfur_dioxide</th>\n",
       "      <th>density</th>\n",
       "      <th>pH</th>\n",
       "      <th>sulphates</th>\n",
       "      <th>alcohol</th>\n",
       "      <th>quality</th>\n",
       "      <th>new_quality</th>\n",
       "    </tr>\n",
       "  </thead>\n",
       "  <tbody>\n",
       "    <tr>\n",
       "      <th>1599</th>\n",
       "      <td>7.0</td>\n",
       "      <td>0.27</td>\n",
       "      <td>0.36</td>\n",
       "      <td>20.7</td>\n",
       "      <td>0.045</td>\n",
       "      <td>45.0</td>\n",
       "      <td>170.0</td>\n",
       "      <td>1.0010</td>\n",
       "      <td>3.00</td>\n",
       "      <td>0.45</td>\n",
       "      <td>8.8</td>\n",
       "      <td>6</td>\n",
       "      <td>1</td>\n",
       "    </tr>\n",
       "    <tr>\n",
       "      <th>1600</th>\n",
       "      <td>6.3</td>\n",
       "      <td>0.30</td>\n",
       "      <td>0.34</td>\n",
       "      <td>1.6</td>\n",
       "      <td>0.049</td>\n",
       "      <td>14.0</td>\n",
       "      <td>132.0</td>\n",
       "      <td>0.9940</td>\n",
       "      <td>3.30</td>\n",
       "      <td>0.49</td>\n",
       "      <td>9.5</td>\n",
       "      <td>6</td>\n",
       "      <td>1</td>\n",
       "    </tr>\n",
       "    <tr>\n",
       "      <th>1601</th>\n",
       "      <td>8.1</td>\n",
       "      <td>0.28</td>\n",
       "      <td>0.40</td>\n",
       "      <td>6.9</td>\n",
       "      <td>0.050</td>\n",
       "      <td>30.0</td>\n",
       "      <td>97.0</td>\n",
       "      <td>0.9951</td>\n",
       "      <td>3.26</td>\n",
       "      <td>0.44</td>\n",
       "      <td>10.1</td>\n",
       "      <td>6</td>\n",
       "      <td>1</td>\n",
       "    </tr>\n",
       "    <tr>\n",
       "      <th>1602</th>\n",
       "      <td>7.2</td>\n",
       "      <td>0.23</td>\n",
       "      <td>0.32</td>\n",
       "      <td>8.5</td>\n",
       "      <td>0.058</td>\n",
       "      <td>47.0</td>\n",
       "      <td>186.0</td>\n",
       "      <td>0.9956</td>\n",
       "      <td>3.19</td>\n",
       "      <td>0.40</td>\n",
       "      <td>9.9</td>\n",
       "      <td>6</td>\n",
       "      <td>1</td>\n",
       "    </tr>\n",
       "    <tr>\n",
       "      <th>1605</th>\n",
       "      <td>6.2</td>\n",
       "      <td>0.32</td>\n",
       "      <td>0.16</td>\n",
       "      <td>7.0</td>\n",
       "      <td>0.045</td>\n",
       "      <td>30.0</td>\n",
       "      <td>136.0</td>\n",
       "      <td>0.9949</td>\n",
       "      <td>3.18</td>\n",
       "      <td>0.47</td>\n",
       "      <td>9.6</td>\n",
       "      <td>6</td>\n",
       "      <td>1</td>\n",
       "    </tr>\n",
       "  </tbody>\n",
       "</table>\n",
       "</div>"
      ]
     },
     "execution_count": 14,
     "metadata": {},
     "output_type": "execute_result"
    }
   ],
   "execution_count": 14
  },
  {
   "cell_type": "code",
   "id": "bec607ec9608d04b",
   "metadata": {
    "colab": {
     "base_uri": "https://localhost:8080/",
     "height": 206
    },
    "id": "bec607ec9608d04b",
    "outputId": "ebb5634f-1b00-4ee5-8558-ad6c97563085",
    "ExecuteTime": {
     "end_time": "2025-04-28T10:46:37.122444Z",
     "start_time": "2025-04-28T10:46:37.107441Z"
    }
   },
   "source": [
    "new_df = df.copy()\n",
    "new_df.drop('quality',axis=1,inplace =True)\n",
    "new_df.head()"
   ],
   "outputs": [
    {
     "data": {
      "text/plain": [
       "      fixed_acidity  volatile_acidity  citric_acid  residual_sugar  chlorides  \\\n",
       "1599            7.0              0.27         0.36            20.7      0.045   \n",
       "1600            6.3              0.30         0.34             1.6      0.049   \n",
       "1601            8.1              0.28         0.40             6.9      0.050   \n",
       "1602            7.2              0.23         0.32             8.5      0.058   \n",
       "1605            6.2              0.32         0.16             7.0      0.045   \n",
       "\n",
       "      free_sulfur_dioxide  total_sulfur_dioxide  density    pH  sulphates  \\\n",
       "1599                 45.0                 170.0   1.0010  3.00       0.45   \n",
       "1600                 14.0                 132.0   0.9940  3.30       0.49   \n",
       "1601                 30.0                  97.0   0.9951  3.26       0.44   \n",
       "1602                 47.0                 186.0   0.9956  3.19       0.40   \n",
       "1605                 30.0                 136.0   0.9949  3.18       0.47   \n",
       "\n",
       "      alcohol  new_quality  \n",
       "1599      8.8            1  \n",
       "1600      9.5            1  \n",
       "1601     10.1            1  \n",
       "1602      9.9            1  \n",
       "1605      9.6            1  "
      ],
      "text/html": [
       "<div>\n",
       "<style scoped>\n",
       "    .dataframe tbody tr th:only-of-type {\n",
       "        vertical-align: middle;\n",
       "    }\n",
       "\n",
       "    .dataframe tbody tr th {\n",
       "        vertical-align: top;\n",
       "    }\n",
       "\n",
       "    .dataframe thead th {\n",
       "        text-align: right;\n",
       "    }\n",
       "</style>\n",
       "<table border=\"1\" class=\"dataframe\">\n",
       "  <thead>\n",
       "    <tr style=\"text-align: right;\">\n",
       "      <th></th>\n",
       "      <th>fixed_acidity</th>\n",
       "      <th>volatile_acidity</th>\n",
       "      <th>citric_acid</th>\n",
       "      <th>residual_sugar</th>\n",
       "      <th>chlorides</th>\n",
       "      <th>free_sulfur_dioxide</th>\n",
       "      <th>total_sulfur_dioxide</th>\n",
       "      <th>density</th>\n",
       "      <th>pH</th>\n",
       "      <th>sulphates</th>\n",
       "      <th>alcohol</th>\n",
       "      <th>new_quality</th>\n",
       "    </tr>\n",
       "  </thead>\n",
       "  <tbody>\n",
       "    <tr>\n",
       "      <th>1599</th>\n",
       "      <td>7.0</td>\n",
       "      <td>0.27</td>\n",
       "      <td>0.36</td>\n",
       "      <td>20.7</td>\n",
       "      <td>0.045</td>\n",
       "      <td>45.0</td>\n",
       "      <td>170.0</td>\n",
       "      <td>1.0010</td>\n",
       "      <td>3.00</td>\n",
       "      <td>0.45</td>\n",
       "      <td>8.8</td>\n",
       "      <td>1</td>\n",
       "    </tr>\n",
       "    <tr>\n",
       "      <th>1600</th>\n",
       "      <td>6.3</td>\n",
       "      <td>0.30</td>\n",
       "      <td>0.34</td>\n",
       "      <td>1.6</td>\n",
       "      <td>0.049</td>\n",
       "      <td>14.0</td>\n",
       "      <td>132.0</td>\n",
       "      <td>0.9940</td>\n",
       "      <td>3.30</td>\n",
       "      <td>0.49</td>\n",
       "      <td>9.5</td>\n",
       "      <td>1</td>\n",
       "    </tr>\n",
       "    <tr>\n",
       "      <th>1601</th>\n",
       "      <td>8.1</td>\n",
       "      <td>0.28</td>\n",
       "      <td>0.40</td>\n",
       "      <td>6.9</td>\n",
       "      <td>0.050</td>\n",
       "      <td>30.0</td>\n",
       "      <td>97.0</td>\n",
       "      <td>0.9951</td>\n",
       "      <td>3.26</td>\n",
       "      <td>0.44</td>\n",
       "      <td>10.1</td>\n",
       "      <td>1</td>\n",
       "    </tr>\n",
       "    <tr>\n",
       "      <th>1602</th>\n",
       "      <td>7.2</td>\n",
       "      <td>0.23</td>\n",
       "      <td>0.32</td>\n",
       "      <td>8.5</td>\n",
       "      <td>0.058</td>\n",
       "      <td>47.0</td>\n",
       "      <td>186.0</td>\n",
       "      <td>0.9956</td>\n",
       "      <td>3.19</td>\n",
       "      <td>0.40</td>\n",
       "      <td>9.9</td>\n",
       "      <td>1</td>\n",
       "    </tr>\n",
       "    <tr>\n",
       "      <th>1605</th>\n",
       "      <td>6.2</td>\n",
       "      <td>0.32</td>\n",
       "      <td>0.16</td>\n",
       "      <td>7.0</td>\n",
       "      <td>0.045</td>\n",
       "      <td>30.0</td>\n",
       "      <td>136.0</td>\n",
       "      <td>0.9949</td>\n",
       "      <td>3.18</td>\n",
       "      <td>0.47</td>\n",
       "      <td>9.6</td>\n",
       "      <td>1</td>\n",
       "    </tr>\n",
       "  </tbody>\n",
       "</table>\n",
       "</div>"
      ]
     },
     "execution_count": 15,
     "metadata": {},
     "output_type": "execute_result"
    }
   ],
   "execution_count": 15
  },
  {
   "cell_type": "code",
   "id": "e0eff740e4123f07",
   "metadata": {
    "id": "e0eff740e4123f07",
    "ExecuteTime": {
     "end_time": "2025-04-28T10:46:37.183963Z",
     "start_time": "2025-04-28T10:46:37.169448Z"
    }
   },
   "source": [
    "train,test = train_test_split(new_df,test_size=0.3,random_state=225, shuffle=True)"
   ],
   "outputs": [],
   "execution_count": 16
  },
  {
   "cell_type": "code",
   "id": "a160306135ccb156",
   "metadata": {
    "id": "a160306135ccb156",
    "ExecuteTime": {
     "end_time": "2025-04-28T10:46:37.306479Z",
     "start_time": "2025-04-28T10:46:37.290482Z"
    }
   },
   "source": [
    "X_train = train.drop('new_quality',axis=1)\n",
    "y_train = train['new_quality']\n",
    "\n",
    "#separate for the test set\n",
    "X_test = test.drop('new_quality',axis=1)\n",
    "y_test = test['new_quality']"
   ],
   "outputs": [],
   "execution_count": 17
  },
  {
   "cell_type": "code",
   "id": "4d53d57fc9640734",
   "metadata": {
    "id": "4d53d57fc9640734",
    "ExecuteTime": {
     "end_time": "2025-04-28T10:46:37.384998Z",
     "start_time": "2025-04-28T10:46:37.376997Z"
    }
   },
   "source": [
    "scaler = StandardScaler()\n",
    "\n",
    "# fit and transform the train set\n",
    "X_train = scaler.fit_transform(X_train)\n",
    "# transform the test set\n",
    "X_test = scaler.transform(X_test)\n"
   ],
   "outputs": [],
   "execution_count": 18
  },
  {
   "cell_type": "code",
   "id": "318ec9cc1754bfff",
   "metadata": {
    "colab": {
     "base_uri": "https://localhost:8080/",
     "height": 210
    },
    "id": "318ec9cc1754bfff",
    "outputId": "7615997e-9f0b-4d17-caf8-ba5c12090e27",
    "ExecuteTime": {
     "end_time": "2025-04-28T10:46:37.478043Z",
     "start_time": "2025-04-28T10:46:37.467013Z"
    }
   },
   "source": [
    "train['new_quality'].value_counts()/len(train)"
   ],
   "outputs": [
    {
     "data": {
      "text/plain": [
       "1    0.743867\n",
       "2    0.212843\n",
       "0    0.043290\n",
       "Name: new_quality, dtype: float64"
      ]
     },
     "execution_count": 19,
     "metadata": {},
     "output_type": "execute_result"
    }
   ],
   "execution_count": 19
  },
  {
   "cell_type": "code",
   "id": "6000be1fd95519ee",
   "metadata": {
    "colab": {
     "base_uri": "https://localhost:8080/",
     "height": 210
    },
    "id": "6000be1fd95519ee",
    "outputId": "d0825e44-60bd-49d3-bdd7-7770ec3eb4b6",
    "ExecuteTime": {
     "end_time": "2025-04-28T10:46:37.587567Z",
     "start_time": "2025-04-28T10:46:37.573563Z"
    }
   },
   "source": [
    "test['new_quality'].value_counts()/len(test)\n"
   ],
   "outputs": [
    {
     "data": {
      "text/plain": [
       "1    0.757780\n",
       "2    0.197645\n",
       "0    0.044575\n",
       "Name: new_quality, dtype: float64"
      ]
     },
     "execution_count": 20,
     "metadata": {},
     "output_type": "execute_result"
    }
   ],
   "execution_count": 20
  },
  {
   "cell_type": "code",
   "id": "4de0821ad698534c",
   "metadata": {
    "colab": {
     "base_uri": "https://localhost:8080/"
    },
    "id": "4de0821ad698534c",
    "outputId": "c44116cc-eb28-4393-9593-624f632c28fb",
    "ExecuteTime": {
     "end_time": "2025-04-28T10:46:37.729085Z",
     "start_time": "2025-04-28T10:46:37.691089Z"
    }
   },
   "source": [
    "\n",
    "# Áp dụng SMOTE cho tập huấn luyện\n",
    "print(\"Phân phối lớp trước oversampling:\", np.bincount(y_train))\n",
    "\n",
    "# Phương pháp 1: SMOTE (Synthetic Minority Over-sampling Technique)\n",
    "# SMOTE tạo ra các mẫu mới bằng cách nội suy giữa các mẫu hiện có\n",
    "smote = SMOTE(random_state=42)\n",
    "X_train, y_train = smote.fit_resample(X_train, y_train)\n",
    "\n",
    "\n",
    "print(\"Phân phối lớp sau oversampling:\", np.bincount(y_train))\n",
    "\n",
    "scaler = StandardScaler()\n",
    "\n",
    "# fit and transform the train set\n",
    "X_train = scaler.fit_transform(X_train)\n",
    "# transform the test set\n",
    "X_test = scaler.transform(X_test)\n",
    "\n"
   ],
   "outputs": [
    {
     "name": "stdout",
     "output_type": "stream",
     "text": [
      "Phân phối lớp trước oversampling: [ 120 2062  590]\n",
      "Phân phối lớp sau oversampling: [2062 2062 2062]\n"
     ]
    },
    {
     "name": "stderr",
     "output_type": "stream",
     "text": [
      "C:\\Users\\My Laptop\\miniconda3\\envs\\conda_envi\\lib\\site-packages\\sklearn\\base.py:474: FutureWarning: `BaseEstimator._validate_data` is deprecated in 1.6 and will be removed in 1.7. Use `sklearn.utils.validation.validate_data` instead. This function becomes public and is part of the scikit-learn developer API.\n",
      "  warnings.warn(\n"
     ]
    }
   ],
   "execution_count": 21
  },
  {
   "cell_type": "code",
   "id": "SqTKvBobbMrM",
   "metadata": {
    "id": "SqTKvBobbMrM",
    "ExecuteTime": {
     "end_time": "2025-04-28T10:46:37.913720Z",
     "start_time": "2025-04-28T10:46:37.881723Z"
    }
   },
   "source": [
    "X_train_tensor = torch.tensor(X_train, dtype=torch.float32)\n",
    "y_train_tensor = torch.tensor(y_train.values, dtype=torch.long)  # Thay đổi kiểu dữ liệu\n",
    "X_test_tensor = torch.tensor(X_test, dtype=torch.float32)\n",
    "y_test_tensor = torch.tensor(y_test.values, dtype=torch.long)  # Thay đổi kiểu dữ liệu\n",
    "\n",
    "# Tạo DataLoader\n",
    "train_dataset = TensorDataset(X_train_tensor, y_train_tensor)\n",
    "test_dataset = TensorDataset(X_test_tensor, y_test_tensor)\n",
    "\n",
    "batch_size = 32\n",
    "train_loader = DataLoader(train_dataset, batch_size=batch_size, shuffle=True)\n",
    "test_loader = DataLoader(test_dataset, batch_size=batch_size, shuffle=False)"
   ],
   "outputs": [],
   "execution_count": 22
  },
  {
   "cell_type": "code",
   "source": [
    "\n",
    "class WineQualityClassifier(nn.Module):\n",
    "    def __init__(self, input_size, hidden_size, num_classes):\n",
    "        super(WineQualityClassifier, self).__init__()\n",
    "        self.fc1 = nn.Linear(input_size, hidden_size)\n",
    "        self.bn1 = nn.BatchNorm1d(hidden_size)\n",
    "\n",
    "        self.fc2 = nn.Linear(hidden_size, hidden_size*2)\n",
    "        self.bn2 = nn.BatchNorm1d(hidden_size*2)\n",
    "\n",
    "        self.fc3 = nn.Linear(hidden_size*2, hidden_size)\n",
    "        self.bn3 = nn.BatchNorm1d(hidden_size)\n",
    "\n",
    "        self.fc4 = nn.Linear(hidden_size, num_classes)\n",
    "\n",
    "        self.init_weights()\n",
    "\n",
    "    def init_weights(self):\n",
    "        for m in self.modules():\n",
    "            if isinstance(m, nn.Linear):\n",
    "                nn.init.kaiming_normal_(m.weight, nonlinearity='relu')\n",
    "                if m.bias is not None:\n",
    "                    nn.init.constant_(m.bias, 0)\n",
    "\n",
    "    def forward(self, x):\n",
    "        x = (torch.relu(self.bn1(self.fc1(x))))\n",
    "        x = (torch.relu(self.bn2(self.fc2(x))))\n",
    "        x = (torch.relu(self.bn3(self.fc3(x))))\n",
    "        x = self.fc4(x)\n",
    "        return x\n",
    "\n",
    "input_size = X_train.shape[1]\n",
    "hidden_size = 128\n",
    "num_classes = 3\n",
    "\n",
    "model = WineQualityClassifier(input_size, hidden_size, num_classes)\n",
    "model = model.to(device)\n",
    "print(model)"
   ],
   "metadata": {
    "colab": {
     "base_uri": "https://localhost:8080/"
    },
    "id": "8RSR1ce2_FPl",
    "outputId": "7b22e3d4-6a8a-4da0-99c4-96f5302a1803",
    "ExecuteTime": {
     "end_time": "2025-04-28T10:46:38.412324Z",
     "start_time": "2025-04-28T10:46:38.307811Z"
    }
   },
   "id": "8RSR1ce2_FPl",
   "outputs": [
    {
     "name": "stdout",
     "output_type": "stream",
     "text": [
      "WineQualityClassifier(\n",
      "  (fc1): Linear(in_features=11, out_features=128, bias=True)\n",
      "  (bn1): BatchNorm1d(128, eps=1e-05, momentum=0.1, affine=True, track_running_stats=True)\n",
      "  (fc2): Linear(in_features=128, out_features=256, bias=True)\n",
      "  (bn2): BatchNorm1d(256, eps=1e-05, momentum=0.1, affine=True, track_running_stats=True)\n",
      "  (fc3): Linear(in_features=256, out_features=128, bias=True)\n",
      "  (bn3): BatchNorm1d(128, eps=1e-05, momentum=0.1, affine=True, track_running_stats=True)\n",
      "  (fc4): Linear(in_features=128, out_features=3, bias=True)\n",
      ")\n"
     ]
    }
   ],
   "execution_count": 23
  },
  {
   "cell_type": "code",
   "id": "16c4a1ae24630533",
   "metadata": {
    "colab": {
     "base_uri": "https://localhost:8080/"
    },
    "id": "16c4a1ae24630533",
    "outputId": "411c64ac-6c43-4120-9a2a-429d7fffebd7",
    "jupyter": {
     "is_executing": true
    },
    "ExecuteTime": {
     "start_time": "2025-04-28T10:46:38.493853Z"
    }
   },
   "source": [
    "\n",
    "# Định nghĩa hàm huấn luyện và đánh giá\n",
    "def train_and_evaluate(model, train_loader, test_loader, criterion, optimizer, num_epochs=100):\n",
    "    # Theo dõi loss và accuracy\n",
    "    train_losses = []\n",
    "    test_losses = []\n",
    "    train_accs = []\n",
    "    test_accs = []\n",
    "\n",
    "    for epoch in range(num_epochs):\n",
    "        # --- TRAINING ---\n",
    "        model.train()  # Chuyển mô hình sang chế độ huấn luyện\n",
    "        running_loss = 0.0\n",
    "        correct = 0\n",
    "        total = 0\n",
    "\n",
    "        for inputs, labels in train_loader:\n",
    "            inputs = inputs.to(device)\n",
    "            labels = labels.to(device).long()  # Đảm bảo kiểu dữ liệu là long\n",
    "\n",
    "            optimizer.zero_grad()  # Làm sạch gradient cũ\n",
    "\n",
    "            # Forward pass\n",
    "            outputs = model(inputs)\n",
    "            loss = criterion(outputs, labels)\n",
    "\n",
    "            # Backward pass (tính toán gradient)\n",
    "            loss.backward()\n",
    "\n",
    "            # Cập nhật trọng số\n",
    "            optimizer.step()\n",
    "\n",
    "            # Tính accuracy\n",
    "            _, predicted = torch.max(outputs.data, 1)\n",
    "            total += labels.size(0)\n",
    "            correct += (predicted == labels).sum().item()\n",
    "            running_loss += loss.item()\n",
    "\n",
    "        # Tính average loss và accuracy cho epoch này\n",
    "        epoch_train_loss = running_loss / len(train_loader)\n",
    "        epoch_train_acc = 100 * correct / total\n",
    "        train_losses.append(epoch_train_loss)\n",
    "        train_accs.append(epoch_train_acc)\n",
    "\n",
    "        # --- TESTING ---\n",
    "        model.eval()  # Chuyển mô hình sang chế độ kiểm tra\n",
    "        running_loss = 0.0\n",
    "        correct = 0\n",
    "        total = 0\n",
    "\n",
    "        with torch.no_grad():  # Tắt gradient calculation trong quá trình kiểm tra\n",
    "            for inputs, labels in test_loader:\n",
    "                inputs = inputs.to(device)\n",
    "                labels = labels.to(device).long()  # Đảm bảo kiểu dữ liệu là long\n",
    "\n",
    "                # Forward pass\n",
    "                outputs = model(inputs)\n",
    "                loss = criterion(outputs, labels)\n",
    "\n",
    "                # Tính accuracy\n",
    "                _, predicted = torch.max(outputs.data, 1)\n",
    "                total += labels.size(0)\n",
    "                correct += (predicted == labels).sum().item()\n",
    "                running_loss += loss.item()\n",
    "\n",
    "        # Tính average loss và accuracy cho epoch này\n",
    "        epoch_test_loss = running_loss / len(test_loader)\n",
    "        epoch_test_acc = 100 * correct / total\n",
    "        test_losses.append(epoch_test_loss)\n",
    "        test_accs.append(epoch_test_acc)\n",
    "\n",
    "        # In thông tin mỗi 10 epochs\n",
    "        if (epoch + 1) % 10 == 0:\n",
    "            print(f'Epoch [{epoch+1}/{num_epochs}], '\n",
    "                  f'Train Loss: {epoch_train_loss:.4f}, Train Acc: {epoch_train_acc:.2f}%, '\n",
    "                  f'Test Loss: {epoch_test_loss:.4f}, Test Acc: {epoch_test_acc:.2f}%')\n",
    "\n",
    "    print('Training complete!')\n",
    "    return train_losses, test_losses, train_accs, test_accs\n",
    "\n",
    "# Định nghĩa hàm đánh giá mô hình\n",
    "def evaluate_model(model, test_loader):\n",
    "    model.eval()\n",
    "    all_predictions = []\n",
    "    all_labels = []\n",
    "\n",
    "    with torch.no_grad():\n",
    "        for inputs, labels in test_loader:\n",
    "            inputs = inputs.to(device)\n",
    "            labels = labels.to(device).long()\n",
    "\n",
    "            outputs = model(inputs)\n",
    "            _, predicted = torch.max(outputs.data, 1)\n",
    "\n",
    "            all_predictions.extend(predicted.cpu().numpy())\n",
    "            all_labels.extend(labels.cpu().numpy())\n",
    "\n",
    "    return all_predictions, all_labels\n",
    "\n",
    "# Khởi tạo loss function với class weights để xử lý imbalance\n",
    "# criterion = nn.CrossEntropyLoss(weight=class_weights)\n",
    "criterion = nn.CrossEntropyLoss()\n",
    "\n",
    "# Khởi tạo optimizer\n",
    "optimizer = torch.optim.Adam(model.parameters(), lr=0.000001, weight_decay=1e-4)\n",
    "\n",
    "# Huấn luyện mô hình\n",
    "train_losses, test_losses, train_accs, test_accs = train_and_evaluate(\n",
    "    model, train_loader, test_loader, criterion, optimizer, num_epochs=300\n",
    ")\n",
    "\n",
    "# Vẽ biểu đồ theo dõi quá trình hội tụ (converge)\n",
    "plt.figure(figsize=(12, 5))\n",
    "\n",
    "# Biểu đồ loss\n",
    "plt.subplot(1, 2, 1)\n",
    "plt.plot(train_losses, label='Train Loss')\n",
    "plt.plot(test_losses, label='Test Loss')\n",
    "plt.title('Training and Test Loss Over Time')\n",
    "plt.xlabel('Epoch')\n",
    "plt.ylabel('Loss')\n",
    "plt.legend()\n",
    "plt.grid(True, alpha=0.3)\n",
    "\n",
    "# Biểu đồ accuracy\n",
    "plt.subplot(1, 2, 2)\n",
    "plt.plot(train_accs, label='Train Accuracy')\n",
    "plt.plot(test_accs, label='Test Accuracy')\n",
    "plt.title('Training and Test Accuracy Over Time')\n",
    "plt.xlabel('Epoch')\n",
    "plt.ylabel('Accuracy (%)')\n",
    "plt.legend()\n",
    "plt.grid(True, alpha=0.3)\n",
    "\n",
    "plt.tight_layout()\n",
    "plt.show()\n",
    "\n",
    "# Đánh giá mô hình với các metric yêu cầu\n",
    "predictions, true_labels = evaluate_model(model, test_loader)\n",
    "\n",
    "# Accuracy\n",
    "print(f\"\\nAccuracy: {accuracy_score(true_labels, predictions):.4f}\")\n",
    "\n",
    "# Classification report (precision, recall, f1-score, support)\n",
    "print(\"\\nClassification Report:\")\n",
    "print(classification_report(true_labels, predictions, target_names=['Class 0 (Low)', 'Class 1 (Medium)', 'Class 2 (High)']))\n",
    "\n",
    "# Confusion matrix\n",
    "cm = confusion_matrix(true_labels, predictions)\n",
    "plt.figure(figsize=(8, 6))\n",
    "sns.heatmap(cm, annot=True, fmt='d', cmap='Blues',\n",
    "            xticklabels=['Class 0\\n(Low)', 'Class 1\\n(Medium)', 'Class 2\\n(High)'],\n",
    "            yticklabels=['Class 0\\n(Low)', 'Class 1\\n(Medium)', 'Class 2\\n(High)'])\n",
    "plt.xlabel('Predicted Label')\n",
    "plt.ylabel('True Label')\n",
    "plt.title('Confusion Matrix')\n",
    "plt.tight_layout()\n",
    "plt.show()\n",
    "\n",
    "# Chi tiết metrics cho từng class\n",
    "precision, recall, f1, support = precision_recall_fscore_support(true_labels, predictions)\n",
    "\n",
    "# Tạo DataFrame để hiển thị các metric\n",
    "metrics_df = pd.DataFrame({\n",
    "    'Precision': precision,\n",
    "    'Recall': recall,\n",
    "    'F1-score': f1,\n",
    "    'Support': support\n",
    "}, index=['Class 0 (Low)', 'Class 1 (Medium)', 'Class 2 (High)'])\n",
    "\n",
    "print(\"\\nPerformance metrics for each class:\")\n",
    "print(metrics_df)\n",
    "\n",
    "# Vẽ biểu đồ so sánh metrics\n",
    "metrics_df[['Precision', 'Recall', 'F1-score']].plot(kind='bar', figsize=(10, 6))\n",
    "plt.title('Performance Metrics by Class')\n",
    "plt.ylabel('Score')\n",
    "plt.xlabel('Class')\n",
    "plt.ylim(0, 1)\n",
    "plt.legend(loc='lower right')\n",
    "plt.grid(axis='y', linestyle='--', alpha=0.7)\n",
    "plt.tight_layout()\n",
    "plt.show()\n"
   ],
   "outputs": [],
   "execution_count": null
  }
 ],
 "metadata": {
  "colab": {
   "provenance": []
  },
  "kernelspec": {
   "display_name": "Python 3",
   "language": "python",
   "name": "python3"
  },
  "language_info": {
   "codemirror_mode": {
    "name": "ipython",
    "version": 2
   },
   "file_extension": ".py",
   "mimetype": "text/x-python",
   "name": "python",
   "nbconvert_exporter": "python",
   "pygments_lexer": "ipython2",
   "version": "2.7.6"
  }
 },
 "nbformat": 4,
 "nbformat_minor": 5
}
